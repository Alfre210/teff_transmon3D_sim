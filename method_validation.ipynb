{
 "cells": [
  {
   "cell_type": "code",
   "execution_count": null,
   "id": "14402d4f-6670-48ef-a247-5ea0112052fd",
   "metadata": {},
   "outputs": [],
   "source": [
    "import numpy as np\n",
    "import matplotlib.pyplot as plt\n",
    "from numpy.random import choice,normal\n",
    "from scipy.optimize import curve_fit\n",
    "\n",
    "from ipywidgets import IntProgress\n",
    "from IPython.display import display"
   ]
  },
  {
   "cell_type": "markdown",
   "id": "d28ab45d-fe7e-4845-963b-35822f3da0a0",
   "metadata": {},
   "source": [
    "# Simulation setups"
   ]
  },
  {
   "cell_type": "code",
   "execution_count": null,
   "id": "f3efc854-a2d1-4fae-a97e-873153b37e96",
   "metadata": {},
   "outputs": [],
   "source": [
    "# --- e-f Rabi oscillation physics simulation setup ---\n",
    "f01 = 5.0e9\n",
    "anharmonicity = -0.25e9\n",
    "\n",
    "TRabi = 250e-9 #Rabi oscillation period\n",
    "wRabi = 2*np.pi/TRabi \n",
    "\n",
    "def rabi_sim(_p0,_t): #Takes the initial state probabilities [p0g,p0e,p0f=0] and the pulse duration/driving time of the Rabi oscillation and returns the probabilities of the states in that moment.\n",
    "    global wRabi\n",
    "    return [_p0[0],(_p0[1]/2)*(1+np.cos(wRabi*_t)),(_p0[1]/2)*(1-np.cos(wRabi*_t))]"
   ]
  },
  {
   "cell_type": "code",
   "execution_count": null,
   "id": "80a2ff8b-9e60-4e39-9981-7cd51afc43ae",
   "metadata": {},
   "outputs": [],
   "source": [
    "# --- Transmon readout stochastic simulation setup ---\n",
    "# SingleTransmonTestBackend calibrations for the IQ state normal distributions\n",
    "gI_mean = 9.9 -10\n",
    "gI_sd = 1.9\n",
    "gQ_mean = 0.0 -10\n",
    "gQ_sd = 2.1\n",
    "\n",
    "eI_mean = -5.1 -10\n",
    "eI_sd = 2.0\n",
    "eQ_mean = 8.7 -10\n",
    "eQ_sd = 2.0\n",
    "\n",
    "fI_mean = -4.9 -10\n",
    "fI_sd = 2.0\n",
    "fQ_mean = -8.7 -10\n",
    "fQ_sd = 2.0\n",
    "# The readout_sim function taker the states probabilities pg,pe,pf, the number of shots and the ouput_type ('single' or 'mean') returns in each case: \n",
    "# 1) 'single': a tuple, first a list as long as the number of shots requested in which element is a 2-element array [I,Q], second the standard deviations determined by the distribution.\n",
    "# 2) 'mean': a tuple, first 2-element array [I,Q] which is the mean of the number of shots itaration, i.e., the mean of the 'single' output-type; second the standard deviations calculated by taken the sd of the mean of samples.\n",
    "def readout_sim(_p,_shots,_output_type):\n",
    "    global gI_mean, gI_sd, gQ_mean, gQ_sd, eI_mean, eI_sd, eQ_mean, eQ_sd, fI_mean, fI_sd, fQ_mean, fQ_sd\n",
    "    _sample = choice([0,1,2], _shots, p=[_p[0],_p[1],_p[2]])\n",
    "    _singles = []\n",
    "    _sd_singles = []\n",
    "    for _item in _sample:\n",
    "        if _item == 0:\n",
    "            _IQ = [normal(loc=gI_mean,scale=gI_sd),normal(loc=gQ_mean,scale=gQ_sd)]\n",
    "            _sdIQ = [gI_sd,gQ_sd]\n",
    "        elif _item == 1:\n",
    "            _IQ = [normal(loc=eI_mean,scale=eI_sd),normal(loc=eQ_mean,scale=eQ_sd)]\n",
    "            _sdIQ = [eI_sd,eQ_sd]\n",
    "        elif _item == 2:\n",
    "            _IQ = [normal(loc=fI_mean,scale=fI_sd),normal(loc=fQ_mean,scale=fQ_sd)]\n",
    "            _sdIQ = [fI_sd,fQ_sd]\n",
    "        _singles.append(_IQ)\n",
    "        _sd_singles.append(_sdIQ)\n",
    "    if _output_type == 'single':\n",
    "        return _singles,_sd_singles\n",
    "    elif _output_type == 'mean':\n",
    "        _mean = [np.mean([_singles[i][0] for i in range(_shots)]),np.mean([_singles[i][1] for i in range(_shots)])]\n",
    "        _sd_mean = [np.sqrt(np.sum([_sd_singles[j][0]**2 for j in range(len(_sd_singles))]))/_shots,np.sqrt(np.sum([_sd_singles[j][1]**2 for j in range(len(_sd_singles))]))/_shots]\n",
    "        return _mean,_sd_mean\n",
    "    else :\n",
    "        raise Exception('Output type not valid.')"
   ]
  },
  {
   "cell_type": "code",
   "execution_count": null,
   "id": "bf116eec-a698-467d-bced-50b74d5e88b5",
   "metadata": {},
   "outputs": [],
   "source": [
    "shots = 2**10\n",
    "\n",
    "Res0,sdRes0 = readout_sim([1,0,0],shots,'single')\n",
    "I0 = np.array([Res0[i][0] for i in range(shots)])\n",
    "Q0 = np.array([Res0[i][1] for i in range(shots)])\n",
    "Res1,sdRes1 = readout_sim([0,1,0],shots,'single')\n",
    "I1 = np.array([Res1[i][0] for i in range(shots)])\n",
    "Q1 = np.array([Res1[i][1] for i in range(shots)])\n",
    "Res2,sdRes2 = readout_sim([0,0,1],shots,'single')\n",
    "I2 = np.array([Res2[i][0] for i in range(shots)])\n",
    "Q2 = np.array([Res2[i][1] for i in range(shots)])\n",
    "\n",
    "plt.grid()\n",
    "plt.scatter(I0,Q0,marker='x',label='|g>')\n",
    "plt.scatter(I1,Q1,marker='x',label='|e>')\n",
    "plt.scatter(I2,Q2,marker='x',label='|f>')\n",
    "plt.scatter(0,0,color='black',label='O')\n",
    "plt.arrow(0,0,gI_mean,gQ_mean,color='yellow',label='Aro(|g>)')\n",
    "plt.arrow(0,0,eI_mean,eQ_mean,color='black',label='Aro(|e>)')\n",
    "plt.arrow(0,0,fI_mean,fQ_mean,color='purple',label='Aro(|f>)')\n",
    "\n",
    "plt.xlabel('I')\n",
    "plt.ylabel('Q')\n",
    "plt.legend(loc='lower right',fontsize='small')\n",
    "plt.show()"
   ]
  },
  {
   "cell_type": "code",
   "execution_count": null,
   "id": "6ba51f6d-5092-4a3b-a886-7b475f3efa17",
   "metadata": {},
   "outputs": [],
   "source": [
    "S0 = np.sqrt(np.mean(I0)**2+np.mean(Q0)**2)\n",
    "T0 = np.arctan2(np.mean(Q0),np.mean(I0))\n",
    "S1 = np.sqrt(np.mean(I1)**2+np.mean(Q1)**2)\n",
    "T1 = np.arctan2(np.mean(Q1),np.mean(I1))\n",
    "S2 = np.sqrt(np.mean(I2)**2+np.mean(Q2)**2)\n",
    "T2 = np.arctan2(np.mean(Q2),np.mean(I2))\n",
    "print(f'Aro(|g>)={S0:.4f}')\n",
    "print(f'Thetaro(|g>)={T0:.4f}')\n",
    "print(f'Aro(|e>)={S1:.4f}')\n",
    "print(f'Thetaro(|e>)={T1:.4f}')\n",
    "print(f'Aro(|f>)={S2:.4f}')\n",
    "print(f'Thetaro(|f>)={T2:.4f}')"
   ]
  },
  {
   "cell_type": "code",
   "execution_count": null,
   "id": "9496768e-2e0e-41ed-9644-3c08e845bdd3",
   "metadata": {},
   "outputs": [],
   "source": [
    "# --- Teff - Pe relations ---\n",
    "h = 6.62607015e-34 #[m2 kg s-1]\n",
    "kB = 1.380649e-23 #[m2 kg s-2 K-1]\n",
    "def Pe2Teff(_pe):\n",
    "    global f01,h,kB\n",
    "    return -(h*f01)/(kB*np.log(_pe/(1-_pe)))\n",
    "def Teff2Pe(_Teff):\n",
    "    global f01,h,kB\n",
    "    return np.exp(-(h*f01)/(kB*_Teff))/(1+np.exp(-(h*f01)/(kB*_Teff)))"
   ]
  },
  {
   "cell_type": "code",
   "execution_count": null,
   "id": "4779158a-fadc-457b-8fd6-5a55e91e94cb",
   "metadata": {},
   "outputs": [],
   "source": [
    "# Experiment setup\n",
    "def run_exp(_pe0,_shots_per_t,_tt):\n",
    "    _state0 = np.array([1-_pe0,_pe0,0])\n",
    "    _results = []\n",
    "    _sd_results = []\n",
    "    for k in range(len(_tt)):\n",
    "        _tState = rabi_sim(_state0,_tt[k])\n",
    "        _res,_sd_res = readout_sim(_tState,_shots_per_t,'mean')\n",
    "        _results.append(_res)\n",
    "        _sd_results.append(_sd_res)\n",
    "    _I = np.array([_results[m][0] for m in range(len(_results))])\n",
    "    _sdI = np.array([_sd_results[m][0] for m in range(len(_sd_results))])\n",
    "    _Q = np.array([_results[m][1] for m in range(len(_results))])\n",
    "    _sdQ = np.array([_sd_results[m][1] for m in range(len(_sd_results))])\n",
    "    return _tt,_I,_Q,_sdI,_sdQ\n",
    "    \n",
    "def fit_function(x_values, y_values,y_sd, function, init_params):\n",
    "    fitparams, conv = curve_fit(function, x_values, y_values, init_params, y_sd)\n",
    "    y_fit = function(x_values, *fitparams)\n",
    "    return fitparams, y_fit, conv\n",
    "def fit_function_nosd(x_values, y_values, function, init_params):\n",
    "    fitparams, conv = curve_fit(function, x_values, y_values, init_params)\n",
    "    y_fit = function(x_values, *fitparams)\n",
    "    return fitparams, y_fit, conv\n",
    "\n",
    "def scale_values(_values):\n",
    "    return _values-np.mean(_values)"
   ]
  },
  {
   "cell_type": "code",
   "execution_count": null,
   "id": "dc38a8fc-78cf-4d4f-9c30-4e36743e2373",
   "metadata": {},
   "outputs": [],
   "source": [
    "Teff = 15e-3\n",
    "pe = Teff2Pe(Teff)\n",
    "shots = 2**17\n",
    "tt = np.arange(0,1e-6,1e-8)\n",
    "t,I,Q,sdI,sdQ = run_exp(pe,shots,tt)"
   ]
  },
  {
   "cell_type": "code",
   "execution_count": null,
   "id": "f2674a26-ea23-4792-809e-adffb3027eb3",
   "metadata": {},
   "outputs": [],
   "source": [
    "plt.scatter(I,Q,marker='x',color='black')\n",
    "plt.scatter(gI_mean,gQ_mean,color='blue',label='|g>')\n",
    "# plt.scatter(eI_mean,eQ_mean,color='orange',label='|e>')\n",
    "# plt.scatter(fI_mean,fQ_mean,color='green',label='|f>')\n",
    "# plt.scatter(0,0,color='black',label='center')\n",
    "plt.xlabel('I [~V]')\n",
    "plt.ylabel('Q [~V]')\n",
    "plt.legend()\n",
    "plt.grid()\n",
    "plt.show()"
   ]
  },
  {
   "cell_type": "code",
   "execution_count": null,
   "id": "8579fce5-ba76-4447-bb4c-595e3433cc4b",
   "metadata": {},
   "outputs": [],
   "source": [
    "N=2**(17)\n",
    "print(np.mean(I))\n",
    "print(np.var(I)**(1/2))\n",
    "print(np.mean(Q))\n",
    "print(np.var(Q)**(1/2))\n",
    "print(gI_sd/np.sqrt(N))\n",
    "print(gQ_sd/np.sqrt(N))"
   ]
  },
  {
   "cell_type": "code",
   "execution_count": null,
   "id": "ac4b7e4e-51cd-452e-98e1-94633e07dd45",
   "metadata": {},
   "outputs": [],
   "source": [
    "signal = np.sqrt(I**2+Q**2)\n",
    "sd_signal = np.sqrt((I**2*sdI**2+Q**2*sdQ**2)/(I**2+Q**2))\n",
    "plt.scatter(t,signal,marker='x',color='black')\n",
    "plt.xlabel('Rabi pulse duration [s]')\n",
    "plt.ylabel('Readout pulse amplitude [~V]')\n",
    "plt.show()"
   ]
  },
  {
   "cell_type": "code",
   "execution_count": null,
   "id": "09f82291-c81c-4ddb-8b37-85869060d6bf",
   "metadata": {},
   "outputs": [],
   "source": [
    "fit_params, y_fit, conv = fit_function(t,\n",
    "                                 signal,sd_signal, \n",
    "                                 lambda x, A, B, drive_period, phi: (A*np.cos(2*np.pi*x/drive_period - phi) + B),\n",
    "                                 [4, 10, 250e-9, 0])\n",
    "print(np.abs(fit_params[0]))\n",
    "plt.errorbar(t,signal,yerr=sd_signal,fmt='.',capsize=4,ecolor='black',color='black')\n",
    "plt.plot(t, y_fit)\n",
    "plt.xlabel('Rabi pulse duration [s]')\n",
    "plt.ylabel('Readout pulse amplitude [~V]')\n",
    "plt.show()"
   ]
  },
  {
   "cell_type": "markdown",
   "id": "7e3ca59f-2448-4501-a9e0-ab97b344c7cf",
   "metadata": {},
   "source": [
    "# Hypothesis validation"
   ]
  },
  {
   "cell_type": "markdown",
   "id": "c9d14b59-c7fe-4681-b83c-e36fc91c80dc",
   "metadata": {},
   "source": [
    "### H1: $P_f\\approx 0$"
   ]
  },
  {
   "cell_type": "code",
   "execution_count": null,
   "id": "857a3ba3-9fe0-4e77-a3be-37c3982cb5eb",
   "metadata": {},
   "outputs": [],
   "source": [
    "v01 = 5e9\n",
    "h = 6.62607015e-34 #[m2 kg s-1]\n",
    "kB = 1.380649e-23 #[m2 kg s-2 K-1]\n",
    "Temps = [15e-3,30e-3,50e-3,100e-3,300e-3]\n",
    "for Temp in Temps:\n",
    "    print(f'T: {Temp*1e3:.0f}mK')\n",
    "    for i in range(4):\n",
    "        print(f'-hv0{i:.0f}/kBT={-h*((i+1)*v01)/(kB*Temp):.1f}')"
   ]
  },
  {
   "cell_type": "markdown",
   "id": "c72abc1e-2102-424d-b893-af5685ccd025",
   "metadata": {},
   "source": [
    "### H2: $A_\\text{ref}=A_0P_g,\\ A_\\text{sig}=A_0P_e$"
   ]
  },
  {
   "cell_type": "code",
   "execution_count": null,
   "id": "c0049132-c5ca-4f69-81c5-9af3171ce883",
   "metadata": {},
   "outputs": [],
   "source": [
    "peMin = Teff2Pe(15e-3)\n",
    "peMax = Teff2Pe(100e-3)\n",
    "Nres = 1e2\n",
    "peRes = (peMax-peMin)/Nres\n",
    "pes = np.arange(peMin,peMax,peRes)\n",
    "amps = []\n",
    "sd_amps = []\n",
    "max_count = len(pes)\n",
    "f = IntProgress(min=0, max=max_count)\n",
    "display(f)\n",
    "\n",
    "\n",
    "for j in range(len(pes)):\n",
    "    shots = 2**12\n",
    "    tt = np.arange(0,1e-6,1e-8)\n",
    "    t,I,Q,sdI,sdQ = run_exp(pes[j],shots,tt)\n",
    "    signal = np.sqrt(I**2+Q**2)\n",
    "    sd_signal = np.sqrt((I**2*sdI**2+Q**2*sdQ**2)/(I**2+Q**2))\n",
    "    fit_params, y_fit, conv = fit_function(t,signal,sd_signal, lambda x, A, B, drive_period, phi: (A*np.cos(2*np.pi*x/drive_period - phi) + B),[4, 10, 250e-9, 0])\n",
    "    amps.append(np.abs(fit_params[0]))\n",
    "    sd_amps.append(np.abs(conv[0][0]))\n",
    "    f.value += 1\n"
   ]
  },
  {
   "cell_type": "code",
   "execution_count": null,
   "id": "d30c6ccd-2ffd-46ad-bd32-1fbafcee58d6",
   "metadata": {},
   "outputs": [],
   "source": [
    "fit_params, y_fit, conv = fit_function(pes,amps, sd_amps,lambda x, A, B: (A*x + B),[1, 0])\n",
    "plt.scatter(pes,amps,marker='x',color='black')\n",
    "# plt.errorbar(pes,amps,yerr=sd_amps,fmt='.',capsize=4,ecolor='black')\n",
    "plt.plot(pes, y_fit,color='red')\n",
    "plt.xlabel('Pe')\n",
    "plt.ylabel('Readout pulse amplitude [~V]')\n",
    "plt.show()"
   ]
  },
  {
   "cell_type": "code",
   "execution_count": null,
   "id": "daea01f6-1198-460d-96c5-fa41130d2c38",
   "metadata": {},
   "outputs": [],
   "source": [
    "print(f'A0: {np.abs(fit_params[0]):0.3f}')\n",
    "print(f'sd(A0): {np.abs(conv[0][0])**(1/2):0.3f}')\n",
    "residuals = amps - (fit_params[0]*pes + fit_params[1])\n",
    "ss_res = np.sum(residuals**2)\n",
    "ss_tot = np.sum((amps-np.mean(amps))**2)\n",
    "r_squared = 1 - (ss_res / ss_tot)\n",
    "print(f'R-squared: {r_squared:0.4f}')"
   ]
  },
  {
   "cell_type": "code",
   "execution_count": null,
   "id": "cc9434f2-3bfa-43fd-8a47-6e8ff9e1cc80",
   "metadata": {},
   "outputs": [],
   "source": [
    "peMin = Teff2Pe(10e-3)\n",
    "peMax = Teff2Pe(30e-3)\n",
    "Nres = 1e2\n",
    "peRes = (peMax-peMin)/Nres\n",
    "pes = np.arange(peMin,peMax,peRes)\n",
    "amps = []\n",
    "sd_amps = []\n",
    "max_count = len(pes)\n",
    "f = IntProgress(min=0, max=max_count)\n",
    "display(f)\n",
    "\n",
    "\n",
    "for j in range(len(pes)):\n",
    "    shots = 2**17\n",
    "    tt = np.arange(0,1e-6,1e-8)\n",
    "    t,I,Q,sdI,sdQ = run_exp(pes[j],shots,tt)\n",
    "    signal = np.sqrt(I**2+Q**2)\n",
    "    sd_signal = np.sqrt((I**2*sdI**2+Q**2*sdQ**2)/(I**2+Q**2))\n",
    "    fit_params, y_fit, conv = fit_function(t,signal,sd_signal, lambda x, A, B, drive_period, phi: (A*np.cos(2*np.pi*x/drive_period - phi) + B),[4, 10, 250e-9, 0])\n",
    "    amps.append(np.abs(fit_params[0]))\n",
    "    sd_amps.append(np.abs(conv[0][0]))\n",
    "    f.value += 1"
   ]
  },
  {
   "cell_type": "code",
   "execution_count": null,
   "id": "6b9ddbf8-bf5f-4699-83b2-34a0eb88e2da",
   "metadata": {},
   "outputs": [],
   "source": [
    "fit_params, y_fit, conv = fit_function(pes,amps, sd_amps,lambda x, A, B: (A*x + B),[1, 0])\n",
    "plt.scatter(pes,amps,marker='x',color='black')\n",
    "plt.plot(pes, y_fit,color='red')\n",
    "plt.xlabel('Pe')\n",
    "plt.ylabel('Readout pulse amplitude [~V]')\n",
    "plt.savefig('Amps_vs_Pe_bad')\n",
    "# plt.show()"
   ]
  },
  {
   "cell_type": "code",
   "execution_count": null,
   "id": "032ee50e-76d0-43d5-8bce-0cc44d59e1c5",
   "metadata": {},
   "outputs": [],
   "source": [
    "print(f'A0: {np.abs(fit_params[0]):0.1f}')\n",
    "print(f'sd(A0): {np.abs(conv[0][0])**(1/2):0.1f}')\n",
    "residuals = amps - (fit_params[0]*pes + fit_params[1])\n",
    "ss_res = np.sum(residuals**2)\n",
    "ss_tot = np.sum((amps-np.mean(amps))**2)\n",
    "r_squared = 1 - (ss_res / ss_tot)\n",
    "print(f'R-squared: {r_squared:0.4f}')"
   ]
  },
  {
   "cell_type": "markdown",
   "id": "1902899d-8c95-4330-aa50-2110c56501ed",
   "metadata": {},
   "source": [
    "# Method validation"
   ]
  },
  {
   "cell_type": "markdown",
   "id": "cf83b805-3298-4ef4-9f2a-4f16ae8b439f",
   "metadata": {},
   "source": [
    "### Fitting curve method testing"
   ]
  },
  {
   "cell_type": "code",
   "execution_count": null,
   "id": "420c6ac2-36ff-49b5-8004-cb96a643c68c",
   "metadata": {},
   "outputs": [],
   "source": [
    "Teff = 200e-3\n",
    "pe = Teff2Pe(Teff)\n",
    "shots = 2**10\n",
    "tt = np.arange(0,1e-6,1e-8)\n"
   ]
  },
  {
   "cell_type": "code",
   "execution_count": null,
   "id": "58962608-9fe5-4458-bd0c-1c2f78d339a5",
   "metadata": {},
   "outputs": [],
   "source": [
    "tRef,IRef,QRef,sdIRef,sdQRef = run_exp(1-pe,shots,tt)\n",
    "plt.scatter(IRef,QRef,marker='x',color='black')\n",
    "plt.scatter(gI_mean,gQ_mean,color='blue',label='|g>')\n",
    "plt.scatter(eI_mean,eQ_mean,color='orange',label='|e>')\n",
    "plt.scatter(fI_mean,fQ_mean,color='green',label='|f>')\n",
    "plt.scatter(0,0,color='black',label='center')\n",
    "plt.legend()\n",
    "plt.show()\n",
    "\n",
    "signalRef = np.sqrt(IRef**2+QRef**2)\n",
    "sd_signalRef = np.sqrt((IRef**2*sdIRef**2+QRef**2*sdQRef**2)/(IRef**2+QRef**2))\n",
    "\n",
    "fit_paramsRef, y_fitRef, convRef = fit_function(tRef,signalRef,sd_signalRef,lambda x, A, B, drive_period, phi: (A*np.cos(2*np.pi*x/drive_period - phi) + B),[max(signalRef)-min(signalRef), (max(signalRef)+min(signalRef))/2, 250e-9, 0])\n",
    "ARef = np.abs(fit_paramsRef[0])\n",
    "print(ARef)\n",
    "plt.errorbar(tRef,signalRef,yerr=sd_signalRef,fmt='.',capsize=4,ecolor='blue',color='blue')\n",
    "plt.plot(tRef, y_fitRef,color='blue')\n",
    "plt.xlabel('Rabi pulse duration [s]')\n",
    "plt.ylabel('Readout pulse amplitude [~V]')\n",
    "plt.show()"
   ]
  },
  {
   "cell_type": "code",
   "execution_count": null,
   "id": "bbbeeb54-046f-462e-986e-0868d3029bd9",
   "metadata": {},
   "outputs": [],
   "source": [
    "tSig,ISig,QSig,sdISig,sdQSig = run_exp(pe,shots,tt)\n",
    "plt.scatter(ISig,QSig,marker='x',color='black')\n",
    "plt.scatter(gI_mean,gQ_mean,color='blue',label='|g>')\n",
    "plt.scatter(eI_mean,eQ_mean,color='orange',label='|e>')\n",
    "plt.scatter(fI_mean,fQ_mean,color='green',label='|f>')\n",
    "plt.scatter(0,0,color='black',label='center')\n",
    "plt.legend()\n",
    "plt.show()\n",
    "\n",
    "signalSig = np.sqrt(ISig**2+QSig**2)\n",
    "sd_signalSig = np.sqrt((ISig**2*sdISig**2+QSig**2*sdQSig**2)/(ISig**2+QSig**2))\n",
    "\n",
    "fit_paramsSig, y_fitSig, convSig = fit_function(tSig,signalSig,sd_signalSig,lambda x, A, B, drive_period, phi: (A*np.cos(2*np.pi*x/drive_period - phi) + B),[max(signalSig)-min(signalSig), (max(signalSig)+min(signalSig))/2, 250e-9, 0])\n",
    "ASig = np.abs(fit_paramsSig[0])\n",
    "print(ASig)\n",
    "plt.errorbar(tSig,signalSig,yerr=sd_signalSig,fmt='.',capsize=4,ecolor='red',color='red')\n",
    "plt.plot(tSig, y_fitSig,color='red')\n",
    "plt.xlabel('Rabi pulse duration [s]')\n",
    "plt.ylabel('Readout pulse amplitude [~V]')\n",
    "plt.show()"
   ]
  },
  {
   "cell_type": "code",
   "execution_count": null,
   "id": "bd634e58-d8ab-4465-aadb-6cd848de9b83",
   "metadata": {},
   "outputs": [],
   "source": [
    "Pe_exp = ASig/(ASig+ARef)\n",
    "Teff_exp = Pe2Teff(Pe_exp)\n",
    "print(Teff_exp)\n",
    "plt.errorbar(tRef,signalRef,yerr=sd_signalRef,fmt='.',capsize=4,ecolor='blue',color='blue',label='Ref')\n",
    "plt.plot(tRef, y_fitRef,color='blue')\n",
    "plt.errorbar(tSig,signalSig,yerr=sd_signalSig,fmt='.',capsize=4,ecolor='red',color='red',label='Sig')\n",
    "plt.plot(tSig, y_fitSig,color='red')\n",
    "plt.xlabel('Rabi pulse duration [s]')\n",
    "plt.ylabel('Readout pulse amplitude [~V]')\n",
    "plt.legend(loc='upper right')\n",
    "plt.show()"
   ]
  },
  {
   "cell_type": "markdown",
   "id": "dee531d9-347f-4167-a831-a6ebd4c3ab98",
   "metadata": {},
   "source": [
    "### Fitting curve method validation"
   ]
  },
  {
   "cell_type": "code",
   "execution_count": null,
   "id": "2fb963e2-5b43-45e1-b5f9-5638fbfca95e",
   "metadata": {},
   "outputs": [],
   "source": [
    "def run_method_fitting(_realTeff,_shots_per_t,_tt):\n",
    "    global h,kB,f01\n",
    "    realPe0 = Teff2Pe(_realTeff)\n",
    "    tRef,IRef,QRef,sdIRef,sdQRef = run_exp(1-realPe0,_shots_per_t,_tt)\n",
    "    signalRef = np.sqrt(IRef**2+QRef**2)\n",
    "    sd_signalRef = np.sqrt((IRef**2*sdIRef**2+QRef**2*sdQRef**2)/(IRef**2+QRef**2))\n",
    "    fit_paramsRef, y_fitRef, convRef = fit_function(tRef,signalRef,sd_signalRef, lambda x, A, B, drive_period, phi: (A*np.cos(2*np.pi*x/drive_period - phi) + B),[max(signalRef)-min(signalRef), (max(signalRef)+min(signalRef))/2, 250e-9, 0])\n",
    "    ARef = np.abs(fit_paramsRef[0])\n",
    "    sdARef = np.sqrt(np.abs(convRef[0][0]))\n",
    "\n",
    "    tSig,ISig,QSig,sdISig,sdQSig = run_exp(realPe0,_shots_per_t,_tt)\n",
    "    signalSig = np.sqrt(ISig**2+QSig**2)\n",
    "    sd_signalSig = np.sqrt((ISig**2*sdISig**2+QSig**2*sdQSig**2)/(ISig**2+QSig**2))\n",
    "    fit_paramsSig, y_fitSig, convSig = fit_function(tSig,signalSig,sd_signalSig, lambda x, A, B, drive_period, phi: (A*np.cos(2*np.pi*x/drive_period - phi) + B),[max(signalSig)-min(signalSig), (max(signalSig)+min(signalSig))/2, 250e-9, 0])\n",
    "    ASig = np.abs(fit_paramsSig[0])\n",
    "    sdASig = np.sqrt(np.abs(convSig[0][0]))\n",
    "\n",
    "    _Pe_exp = ASig/(ASig+ARef)\n",
    "    _sd_Pe_exp = np.sqrt((ARef**2*sdASig**2)/(ASig**2+ARef**2)**4 + (ASig**2*sdARef**2)/(ASig**2+ARef**2)**4)\n",
    "    _Teff_exp = Pe2Teff(_Pe_exp)\n",
    "    _sd_Teff_exp = np.abs((h*f01)/(kB*(np.log( _Pe_exp/(1- _Pe_exp)))**2*_Pe_exp*(1-_Pe_exp)))*_sd_Pe_exp\n",
    "    return _Teff_exp, _sd_Teff_exp, _Pe_exp, _sd_Pe_exp"
   ]
  },
  {
   "cell_type": "code",
   "execution_count": null,
   "id": "f9306f0d-0ddd-4caa-9038-5b4973ba1ad8",
   "metadata": {},
   "outputs": [],
   "source": [
    "real_Teff = 15e-3\n",
    "\n",
    "N_meas = 10\n",
    "\n",
    "shots = 5000\n",
    "tt = np.arange(0,0.6e-6,1e-7)\n",
    "f = IntProgress(min=0, max=N_meas)\n",
    "display(f)\n",
    "\n",
    "meas = []\n",
    "for n in range(N_meas):\n",
    "    meas.append(run_method_fitting(real_Teff,shots,tt))\n",
    "    f.value += 1"
   ]
  },
  {
   "cell_type": "code",
   "execution_count": null,
   "id": "0c925a47-998b-4c89-81e8-d8e13344e5d9",
   "metadata": {},
   "outputs": [],
   "source": [
    "exp_Teff = np.mean(np.array([meas[i][0] for i in range(len(meas))]))\n",
    "sd_exp_Teff = np.sqrt(np.sum((np.array([meas[i][0] for i in range(len(meas))])-exp_Teff)**2)/len(meas))"
   ]
  },
  {
   "cell_type": "code",
   "execution_count": null,
   "id": "1bcf20a3-7c6e-475d-841f-851183fa4e56",
   "metadata": {},
   "outputs": [],
   "source": [
    "print(f'Real Teff: {real_Teff*1e3:.1f} mK')\n",
    "print(f'Exp Teff: {exp_Teff*1e3:.1f} mK')\n",
    "print(f'sd Exp Teff: {sd_exp_Teff*1e3:.1f} mK')"
   ]
  },
  {
   "cell_type": "code",
   "execution_count": null,
   "id": "7e852c66-60e4-4a81-8d91-9ed0c0eaa070",
   "metadata": {},
   "outputs": [],
   "source": [
    "real_Teffs = np.arange(15e-3,100e-3,10e-3)\n",
    "shots = 2**17\n",
    "tt = np.arange(0,1e-6,1e-8)\n",
    "exp_Teffs = []\n",
    "sd_exp_Teffs = []\n",
    "exp_Pes = []\n",
    "sd_exp_Pes = []\n",
    "\n",
    "\n",
    "max_count = len(real_Teffs)\n",
    "f = IntProgress(min=0, max=max_count)\n",
    "display(f)\n",
    "\n",
    "for l in range(len(real_Teffs)):\n",
    "    exp_Teff,sd_exp_Teff,exp_Pe,sd_exp_Pe = run_method_fitting(real_Teffs[l],shots,tt)\n",
    "    exp_Teffs.append(exp_Teff)\n",
    "    sd_exp_Teffs.append(sd_exp_Teff)\n",
    "    exp_Pes.append(exp_Pe)\n",
    "    sd_exp_Pes.append(sd_exp_Pe)\n",
    "    f.value += 1"
   ]
  },
  {
   "cell_type": "code",
   "execution_count": null,
   "id": "e6433774-1000-4392-bb1a-e7a27438923c",
   "metadata": {},
   "outputs": [],
   "source": [
    "tteff = np.arange(15e-3,100e-3,1e-3)\n",
    "ppe = Teff2Pe(tteff)\n",
    "\n",
    "plt.errorbar(np.array(real_Teffs)*1e3,np.array(exp_Pes)*1e2,yerr=np.array(sd_exp_Pe)*1e2,fmt='.',capsize=4,ecolor='black',label='Exp Pe')\n",
    "plt.plot(tteff*1e3,ppe*1e2,'-',color='red',label='MB dist')\n",
    "plt.plot([10,95],[0.1,0.1],'--',color='purple')\n",
    "plt.xlabel('Real Teff [mK]')\n",
    "plt.ylabel('Measured Pe [%]')\n",
    "plt.show()"
   ]
  },
  {
   "cell_type": "markdown",
   "id": "f1a7f7df-060a-4d8a-9d1a-0ce00303db47",
   "metadata": {},
   "source": [
    "### Min-Max method testing"
   ]
  },
  {
   "cell_type": "code",
   "execution_count": null,
   "id": "3022c09a-d71b-491c-8ad5-1c86e5784de8",
   "metadata": {},
   "outputs": [],
   "source": [
    "real_Teff = 15e-3\n",
    "shots = 4000\n",
    "C = 2000\n",
    "realPe0 = Teff2Pe(real_Teff)\n",
    "_tt = np.array([TRabi/2,TRabi])\n",
    "\n",
    "measRef = []\n",
    "sd_measRef = []\n",
    "f = IntProgress(min=0, max=C)\n",
    "display(f)\n",
    "for c in range(C):\n",
    "    tRef,IRef,QRef,sdIRef,sdQRef = run_exp(1-realPe0,shots,_tt)\n",
    "    signalRef = np.sqrt(IRef**2+QRef**2)\n",
    "    sd_signalRef = np.sqrt((IRef**2*sdIRef**2+QRef**2*sdQRef**2)/(IRef**2+QRef**2))\n",
    "    measRef.append(signalRef[0] - signalRef[1])\n",
    "    sd_measRef.append(np.sqrt(sd_signalRef[0]**2 + sd_signalRef[1]**2))\n",
    "    f.value += 1\n",
    "\n",
    "ARef = np.mean(np.array(measRef))\n",
    "sdARef_typeA = np.sqrt(np.sum(np.array(sd_measRef)**2)/C**2)\n",
    "sdARef_typeB = np.sqrt(np.sum((np.array(measRef)-ARef)**2)/(C))\n",
    "sdARef = np.sqrt(sdARef_typeA**2 + sdARef_typeB**2)\n",
    "print(f'ARef: {ARef:.3f}')\n",
    "print(f'sdARef: {sdARef:.3f}')"
   ]
  },
  {
   "cell_type": "code",
   "execution_count": null,
   "id": "462f3738-1eae-4a45-a323-6073c017b3e6",
   "metadata": {},
   "outputs": [],
   "source": [
    "measSig = []\n",
    "sd_measSig = []\n",
    "f = IntProgress(min=0, max=C)\n",
    "display(f)\n",
    "for c in range(C):\n",
    "    tSig,ISig,QSig,sdISig,sdQSig = run_exp(realPe0,shots,_tt)\n",
    "    signalSig = np.sqrt(ISig**2+QSig**2)\n",
    "    sd_signalSig = np.sqrt((ISig**2*sdISig**2+QSig**2*sdQSig**2)/(ISig**2+QSig**2))\n",
    "    measSig.append(signalSig[0] - signalSig[1])\n",
    "    sd_measSig.append(np.sqrt(sd_signalSig[0]**2 + sd_signalSig[1]**2))\n",
    "    f.value += 1\n",
    "\n",
    "ASig = np.mean(np.array(measSig))\n",
    "sdASig_typeA = np.sqrt(np.sum(np.array(sd_measSig)**2)/C**2)\n",
    "sdASig_typeB = np.sqrt(np.sum((np.array(measSig)-ASig)**2)/(C))\n",
    "sdASig = np.sqrt(sdASig_typeA**2 + sdASig_typeB**2)\n",
    "print(f'ASig: {ASig:.6f}')\n",
    "print(f'sdASig: {sdASig:.3f}')"
   ]
  },
  {
   "cell_type": "code",
   "execution_count": null,
   "id": "6d86a01f-c693-4894-be66-e6fac50f4667",
   "metadata": {},
   "outputs": [],
   "source": [
    "Pe_exp = ASig/(ASig+ARef)\n",
    "print(Pe_exp)\n",
    "sd_Pe_exp = np.sqrt((ARef**2*sdASig**2)/(ASig**2+ARef**2)**4 + (ASig**2*sdARef**2)/(ASig**2+ARef**2)**4)\n",
    "print(sd_Pe_exp)\n",
    "Teff_exp = Pe2Teff(Pe_exp)\n",
    "print(Teff_exp)\n",
    "sd_Teff_exp = np.abs((h*f01)/(kB*(np.log( Pe_exp/(1- Pe_exp)))**2*Pe_exp*(1-Pe_exp)))*sd_Pe_exp\n",
    "print(sd_Teff_exp)"
   ]
  },
  {
   "cell_type": "markdown",
   "id": "69f41147-5117-49d0-afc6-ebda1d1f9c36",
   "metadata": {},
   "source": [
    "### Min_Max method validation"
   ]
  },
  {
   "cell_type": "code",
   "execution_count": null,
   "id": "00ae0be1-ddfb-42e7-a5c9-23554bc37038",
   "metadata": {},
   "outputs": [],
   "source": [
    "def run_method_minmax(_realTeff,_shots_per_t,_cycles):\n",
    "    global h,kB,f01,TRabi\n",
    "    realPe0 = Teff2Pe(_realTeff)\n",
    "    _tt = np.array([TRabi/2,TRabi])\n",
    "    measRef = []\n",
    "    sd_measRef = []\n",
    "    f = IntProgress(min=0, max=_cycles)\n",
    "    display(f)\n",
    "    for c in range(_cycles):\n",
    "        tRef,IRef,QRef,sdIRef,sdQRef = run_exp(1-realPe0,_shots_per_t,_tt)\n",
    "        signalRef = np.sqrt(IRef**2+QRef**2)\n",
    "        sd_signalRef = np.sqrt((IRef**2*sdIRef**2+QRef**2*sdQRef**2)/(IRef**2+QRef**2))\n",
    "        measRef.append(signalRef[0] - signalRef[1])\n",
    "        sd_measRef.append(np.sqrt(sd_signalRef[0]**2 + sd_signalRef[1]**2))\n",
    "        f.value += 1\n",
    "    \n",
    "    ARef = np.mean(np.array(measRef))\n",
    "    sdARef_typeA = np.sqrt(np.sum(np.array(sd_measRef)**2)/_cycles**2)\n",
    "    sdARef_typeB = np.sqrt(np.sum((np.array(measRef)-ARef)**2)/(_cycles))\n",
    "    sdARef = np.sqrt(sdARef_typeA**2 + sdARef_typeB**2)\n",
    "                        \n",
    "    measSig = []\n",
    "    sd_measSig = []\n",
    "    f = IntProgress(min=0, max=_cycles)\n",
    "    display(f)\n",
    "    for c in range(C):\n",
    "        tSig,ISig,QSig,sdISig,sdQSig = run_exp(realPe0,_shots_per_t,_tt)\n",
    "        signalSig = np.sqrt(ISig**2+QSig**2)\n",
    "        sd_signalSig = np.sqrt((ISig**2*sdISig**2+QSig**2*sdQSig**2)/(ISig**2+QSig**2))\n",
    "        measSig.append(signalSig[0] - signalSig[1])\n",
    "        sd_measSig.append(np.sqrt(sd_signalSig[0]**2 + sd_signalSig[1]**2))\n",
    "        f.value += 1\n",
    "    ASig = np.mean(np.array(measSig))\n",
    "    sdASig_typeA = np.sqrt(np.sum(np.array(sd_measSig)**2)/_cycles**2)\n",
    "    sdASig_typeB = np.sqrt(np.sum((np.array(measSig)-ASig)**2)/(_cycles))\n",
    "    sdASig = np.sqrt(sdASig_typeA**2 + sdASig_typeB**2)\n",
    "\n",
    "    _Pe_exp = ASig/(ASig+ARef)\n",
    "    _sd_Pe_exp = np.sqrt((ARef**2*sdASig**2)/(ASig**2+ARef**2)**4 + (ASig**2*sdARef**2)/(ASig**2+ARef**2)**4)\n",
    "    _Teff_exp = Pe2Teff(_Pe_exp)\n",
    "    _sd_Teff_exp = np.abs((h*f01)/(kB*(np.log( _Pe_exp/(1- _Pe_exp)))**2*_Pe_exp*(1-_Pe_exp)))*_sd_Pe_exp\n",
    "    return [_Teff_exp, _sd_Teff_exp, _Pe_exp, _sd_Pe_exp]"
   ]
  },
  {
   "cell_type": "code",
   "execution_count": null,
   "id": "fa29758e-7c44-453f-a77f-979bcfd794fa",
   "metadata": {},
   "outputs": [],
   "source": [
    "real_Teff = 15e-3\n",
    "shots = 5000\n",
    "C = 10000\n",
    "Teff_exp, sd_Teff_exp, Pe_exp, sd_Pe_exp=run_method_minmax(real_Teff,shots,C)"
   ]
  },
  {
   "cell_type": "code",
   "execution_count": null,
   "id": "6344f6b1-c5db-4b15-a580-fdbb8a558270",
   "metadata": {},
   "outputs": [],
   "source": [
    "print(f'Pe_exp: {Pe_exp:.7f}')\n",
    "print(f'sdPe_exp: {sd_Pe_exp:.7f}')\n",
    "print(f'Teff_exp: {Teff_exp:.3f}')\n",
    "print(f'sdTeff_exp: {sd_Teff_exp:.3f}')"
   ]
  },
  {
   "cell_type": "code",
   "execution_count": null,
   "id": "59ee571e-4705-4b85-9793-86a77b18e751",
   "metadata": {},
   "outputs": [],
   "source": [
    "Teffs = np.arange(15e-3,40e-3,5e-3)\n",
    "real_Teff = 15e-3\n",
    "shots = 5000\n",
    "C = 10000\n",
    "measurements = []\n",
    "for u in range(len(Teffs)):\n",
    "    print(f'{Teffs[u]*1e3:.0f} mK')\n",
    "    measurements.append(run_method_minmax(Teffs[u],shots,C))"
   ]
  },
  {
   "cell_type": "code",
   "execution_count": null,
   "id": "55017750-b011-4655-b2e2-52e6c22bf601",
   "metadata": {},
   "outputs": [],
   "source": [
    "Teffs_exp = [measurements[i][0] for i in range(len(measurements))]\n",
    "sdTeffs_exp = [measurements[i][1] for i in range(len(measurements))]\n",
    "Pes_exp = [measurements[i][2] for i in range(len(measurements))]\n",
    "sdPes_exp = [measurements[i][3] for i in range(len(measurements))]"
   ]
  },
  {
   "cell_type": "code",
   "execution_count": null,
   "id": "5c6f1c24-a94a-43d4-8df2-57e03088cf2b",
   "metadata": {},
   "outputs": [],
   "source": [
    "tteff = np.arange(10e-3,40e-3,1e-3)\n",
    "ppe = Teff2Pe(tteff)\n",
    "\n",
    "plt.errorbar(np.array(Teffs)*1e3,np.array(Pes_exp)*1e2,yerr=np.array(sdPes_exp )*1e2,fmt='.',capsize=4,ecolor='black',label='Exp Pe')\n",
    "plt.plot(tteff*1e3,ppe*1e2,'-',color='red',label='Pe MB dist')\n",
    "plt.plot([10,40],[0.1,0.1],'--',color='purple',label='Pe=0.1%')\n",
    "plt.xlabel('Real Teff [mK]')\n",
    "plt.ylabel('Measured Pe [%]')\n",
    "plt.legend()\n",
    "plt.show()"
   ]
  },
  {
   "cell_type": "code",
   "execution_count": null,
   "id": "bc819ffc-1ecc-4655-a57a-0546bce88414",
   "metadata": {},
   "outputs": [],
   "source": []
  },
  {
   "cell_type": "code",
   "execution_count": null,
   "id": "8f2dd7b2-e0cb-402e-b268-55df94a6c611",
   "metadata": {},
   "outputs": [],
   "source": []
  }
 ],
 "metadata": {
  "kernelspec": {
   "display_name": "Python 3 (ipykernel)",
   "language": "python",
   "name": "python3"
  },
  "language_info": {
   "codemirror_mode": {
    "name": "ipython",
    "version": 3
   },
   "file_extension": ".py",
   "mimetype": "text/x-python",
   "name": "python",
   "nbconvert_exporter": "python",
   "pygments_lexer": "ipython3",
   "version": "3.12.0"
  }
 },
 "nbformat": 4,
 "nbformat_minor": 5
}
